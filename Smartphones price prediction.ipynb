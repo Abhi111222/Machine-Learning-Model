{
 "cells": [
  {
   "cell_type": "markdown",
   "id": "b85b259a",
   "metadata": {},
   "source": [
    "# Dataset and Domain"
   ]
  },
  {
   "cell_type": "markdown",
   "id": "e9e59145",
   "metadata": {},
   "source": [
    " \n",
    "- Data Dictionary \n",
    "- Variable categorization (count of numeric and categorical)\n",
    "- Pre Processing Data Analysis (count of missing/ null values, redundant columns, etc.)\n",
    "- Alternate sources of data that can supplement the core dataset (at least 2-3 columns)\n",
    "- Project Justification -  Project Statement, Complexity involved, Project Outcome –Commercial, Academic or Social value\n",
    "\n"
   ]
  },
  {
   "cell_type": "code",
   "execution_count": 20,
   "id": "6ec74740",
   "metadata": {},
   "outputs": [
    {
     "data": {
      "text/html": [
       "<div>\n",
       "<style scoped>\n",
       "    .dataframe tbody tr th:only-of-type {\n",
       "        vertical-align: middle;\n",
       "    }\n",
       "\n",
       "    .dataframe tbody tr th {\n",
       "        vertical-align: top;\n",
       "    }\n",
       "\n",
       "    .dataframe thead th {\n",
       "        text-align: right;\n",
       "    }\n",
       "</style>\n",
       "<table border=\"1\" class=\"dataframe\">\n",
       "  <thead>\n",
       "    <tr style=\"text-align: right;\">\n",
       "      <th></th>\n",
       "      <th>Smartphone</th>\n",
       "      <th>Brand</th>\n",
       "      <th>Model</th>\n",
       "      <th>RAM</th>\n",
       "      <th>Storage</th>\n",
       "      <th>Color</th>\n",
       "      <th>Free</th>\n",
       "      <th>Final Price</th>\n",
       "    </tr>\n",
       "  </thead>\n",
       "  <tbody>\n",
       "    <tr>\n",
       "      <th>0</th>\n",
       "      <td>Realme C55 8/256GB Sunshower Libre</td>\n",
       "      <td>Realme</td>\n",
       "      <td>C55</td>\n",
       "      <td>8.0</td>\n",
       "      <td>256.0</td>\n",
       "      <td>Yellow</td>\n",
       "      <td>Yes</td>\n",
       "      <td>231.60</td>\n",
       "    </tr>\n",
       "    <tr>\n",
       "      <th>1</th>\n",
       "      <td>Samsung Galaxy M23 5G 4/128GB Azul Libre</td>\n",
       "      <td>Samsung</td>\n",
       "      <td>Galaxy M23</td>\n",
       "      <td>4.0</td>\n",
       "      <td>128.0</td>\n",
       "      <td>Blue</td>\n",
       "      <td>Yes</td>\n",
       "      <td>279.00</td>\n",
       "    </tr>\n",
       "    <tr>\n",
       "      <th>2</th>\n",
       "      <td>Motorola Moto G13 4/128GB Azul Lavanda Libre</td>\n",
       "      <td>Motorola</td>\n",
       "      <td>Moto G13</td>\n",
       "      <td>4.0</td>\n",
       "      <td>128.0</td>\n",
       "      <td>Blue</td>\n",
       "      <td>Yes</td>\n",
       "      <td>179.01</td>\n",
       "    </tr>\n",
       "    <tr>\n",
       "      <th>3</th>\n",
       "      <td>Xiaomi Redmi Note 11S 6/128GB Gris Libre</td>\n",
       "      <td>Xiaomi</td>\n",
       "      <td>Redmi Note 11S</td>\n",
       "      <td>6.0</td>\n",
       "      <td>128.0</td>\n",
       "      <td>Gray</td>\n",
       "      <td>Yes</td>\n",
       "      <td>279.99</td>\n",
       "    </tr>\n",
       "    <tr>\n",
       "      <th>4</th>\n",
       "      <td>Nothing Phone (2) 12/512GB Blanco Libre</td>\n",
       "      <td>Nothing</td>\n",
       "      <td>Phone (2)</td>\n",
       "      <td>12.0</td>\n",
       "      <td>512.0</td>\n",
       "      <td>White</td>\n",
       "      <td>Yes</td>\n",
       "      <td>799.00</td>\n",
       "    </tr>\n",
       "  </tbody>\n",
       "</table>\n",
       "</div>"
      ],
      "text/plain": [
       "                                     Smartphone     Brand           Model  \\\n",
       "0            Realme C55 8/256GB Sunshower Libre    Realme             C55   \n",
       "1      Samsung Galaxy M23 5G 4/128GB Azul Libre   Samsung      Galaxy M23   \n",
       "2  Motorola Moto G13 4/128GB Azul Lavanda Libre  Motorola        Moto G13   \n",
       "3      Xiaomi Redmi Note 11S 6/128GB Gris Libre    Xiaomi  Redmi Note 11S   \n",
       "4       Nothing Phone (2) 12/512GB Blanco Libre   Nothing       Phone (2)   \n",
       "\n",
       "    RAM  Storage   Color Free  Final Price  \n",
       "0   8.0    256.0  Yellow  Yes       231.60  \n",
       "1   4.0    128.0    Blue  Yes       279.00  \n",
       "2   4.0    128.0    Blue  Yes       179.01  \n",
       "3   6.0    128.0    Gray  Yes       279.99  \n",
       "4  12.0    512.0   White  Yes       799.00  "
      ]
     },
     "execution_count": 20,
     "metadata": {},
     "output_type": "execute_result"
    }
   ],
   "source": [
    "import pandas as pd\n",
    "\n",
    "df = pd.read_csv(r'C:\\Users\\hp\\Downloads\\archive (21)\\smartphones.csv')\n",
    "\n",
    "df.head()"
   ]
  },
  {
   "cell_type": "code",
   "execution_count": 21,
   "id": "24b8c017",
   "metadata": {},
   "outputs": [
    {
     "data": {
      "text/plain": [
       "Smartphone      object\n",
       "Brand           object\n",
       "Model           object\n",
       "RAM            float64\n",
       "Storage        float64\n",
       "Color           object\n",
       "Free            object\n",
       "Final Price    float64\n",
       "dtype: object"
      ]
     },
     "execution_count": 21,
     "metadata": {},
     "output_type": "execute_result"
    }
   ],
   "source": [
    "df.dtypes"
   ]
  },
  {
   "cell_type": "code",
   "execution_count": 22,
   "id": "a84ccd9e",
   "metadata": {},
   "outputs": [
    {
     "data": {
      "text/plain": [
       "(1816, 8)"
      ]
     },
     "execution_count": 22,
     "metadata": {},
     "output_type": "execute_result"
    }
   ],
   "source": [
    "df.shape"
   ]
  },
  {
   "cell_type": "code",
   "execution_count": 23,
   "id": "7433eebd",
   "metadata": {},
   "outputs": [
    {
     "name": "stdout",
     "output_type": "stream",
     "text": [
      "<class 'pandas.core.frame.DataFrame'>\n",
      "RangeIndex: 1816 entries, 0 to 1815\n",
      "Data columns (total 8 columns):\n",
      " #   Column       Non-Null Count  Dtype  \n",
      "---  ------       --------------  -----  \n",
      " 0   Smartphone   1816 non-null   object \n",
      " 1   Brand        1816 non-null   object \n",
      " 2   Model        1816 non-null   object \n",
      " 3   RAM          1333 non-null   float64\n",
      " 4   Storage      1791 non-null   float64\n",
      " 5   Color        1816 non-null   object \n",
      " 6   Free         1816 non-null   object \n",
      " 7   Final Price  1816 non-null   float64\n",
      "dtypes: float64(3), object(5)\n",
      "memory usage: 113.6+ KB\n"
     ]
    }
   ],
   "source": [
    "df.info()"
   ]
  },
  {
   "cell_type": "code",
   "execution_count": 24,
   "id": "4c4d6639",
   "metadata": {},
   "outputs": [
    {
     "data": {
      "text/html": [
       "<div>\n",
       "<style scoped>\n",
       "    .dataframe tbody tr th:only-of-type {\n",
       "        vertical-align: middle;\n",
       "    }\n",
       "\n",
       "    .dataframe tbody tr th {\n",
       "        vertical-align: top;\n",
       "    }\n",
       "\n",
       "    .dataframe thead th {\n",
       "        text-align: right;\n",
       "    }\n",
       "</style>\n",
       "<table border=\"1\" class=\"dataframe\">\n",
       "  <thead>\n",
       "    <tr style=\"text-align: right;\">\n",
       "      <th></th>\n",
       "      <th>RAM</th>\n",
       "      <th>Storage</th>\n",
       "      <th>Final Price</th>\n",
       "    </tr>\n",
       "  </thead>\n",
       "  <tbody>\n",
       "    <tr>\n",
       "      <th>count</th>\n",
       "      <td>1333.00000</td>\n",
       "      <td>1791.000000</td>\n",
       "      <td>1816.000000</td>\n",
       "    </tr>\n",
       "    <tr>\n",
       "      <th>mean</th>\n",
       "      <td>5.96099</td>\n",
       "      <td>162.652150</td>\n",
       "      <td>492.175573</td>\n",
       "    </tr>\n",
       "    <tr>\n",
       "      <th>std</th>\n",
       "      <td>2.66807</td>\n",
       "      <td>139.411605</td>\n",
       "      <td>398.606183</td>\n",
       "    </tr>\n",
       "    <tr>\n",
       "      <th>min</th>\n",
       "      <td>1.00000</td>\n",
       "      <td>2.000000</td>\n",
       "      <td>60.460000</td>\n",
       "    </tr>\n",
       "    <tr>\n",
       "      <th>25%</th>\n",
       "      <td>4.00000</td>\n",
       "      <td>64.000000</td>\n",
       "      <td>200.990000</td>\n",
       "    </tr>\n",
       "    <tr>\n",
       "      <th>50%</th>\n",
       "      <td>6.00000</td>\n",
       "      <td>128.000000</td>\n",
       "      <td>349.990000</td>\n",
       "    </tr>\n",
       "    <tr>\n",
       "      <th>75%</th>\n",
       "      <td>8.00000</td>\n",
       "      <td>256.000000</td>\n",
       "      <td>652.717500</td>\n",
       "    </tr>\n",
       "    <tr>\n",
       "      <th>max</th>\n",
       "      <td>12.00000</td>\n",
       "      <td>1000.000000</td>\n",
       "      <td>2271.280000</td>\n",
       "    </tr>\n",
       "  </tbody>\n",
       "</table>\n",
       "</div>"
      ],
      "text/plain": [
       "              RAM      Storage  Final Price\n",
       "count  1333.00000  1791.000000  1816.000000\n",
       "mean      5.96099   162.652150   492.175573\n",
       "std       2.66807   139.411605   398.606183\n",
       "min       1.00000     2.000000    60.460000\n",
       "25%       4.00000    64.000000   200.990000\n",
       "50%       6.00000   128.000000   349.990000\n",
       "75%       8.00000   256.000000   652.717500\n",
       "max      12.00000  1000.000000  2271.280000"
      ]
     },
     "execution_count": 24,
     "metadata": {},
     "output_type": "execute_result"
    }
   ],
   "source": [
    "df.describe()"
   ]
  },
  {
   "cell_type": "code",
   "execution_count": 25,
   "id": "3974edfc",
   "metadata": {},
   "outputs": [
    {
     "data": {
      "text/html": [
       "<div>\n",
       "<style scoped>\n",
       "    .dataframe tbody tr th:only-of-type {\n",
       "        vertical-align: middle;\n",
       "    }\n",
       "\n",
       "    .dataframe tbody tr th {\n",
       "        vertical-align: top;\n",
       "    }\n",
       "\n",
       "    .dataframe thead th {\n",
       "        text-align: right;\n",
       "    }\n",
       "</style>\n",
       "<table border=\"1\" class=\"dataframe\">\n",
       "  <thead>\n",
       "    <tr style=\"text-align: right;\">\n",
       "      <th></th>\n",
       "      <th>Smartphone</th>\n",
       "      <th>Brand</th>\n",
       "      <th>Model</th>\n",
       "      <th>Color</th>\n",
       "      <th>Free</th>\n",
       "    </tr>\n",
       "  </thead>\n",
       "  <tbody>\n",
       "    <tr>\n",
       "      <th>count</th>\n",
       "      <td>1816</td>\n",
       "      <td>1816</td>\n",
       "      <td>1816</td>\n",
       "      <td>1816</td>\n",
       "      <td>1816</td>\n",
       "    </tr>\n",
       "    <tr>\n",
       "      <th>unique</th>\n",
       "      <td>1816</td>\n",
       "      <td>37</td>\n",
       "      <td>383</td>\n",
       "      <td>17</td>\n",
       "      <td>2</td>\n",
       "    </tr>\n",
       "    <tr>\n",
       "      <th>top</th>\n",
       "      <td>Realme C55 8/256GB Sunshower Libre</td>\n",
       "      <td>Samsung</td>\n",
       "      <td>iPhone 13</td>\n",
       "      <td>Black</td>\n",
       "      <td>Yes</td>\n",
       "    </tr>\n",
       "    <tr>\n",
       "      <th>freq</th>\n",
       "      <td>1</td>\n",
       "      <td>458</td>\n",
       "      <td>60</td>\n",
       "      <td>537</td>\n",
       "      <td>1772</td>\n",
       "    </tr>\n",
       "  </tbody>\n",
       "</table>\n",
       "</div>"
      ],
      "text/plain": [
       "                                Smartphone    Brand      Model  Color  Free\n",
       "count                                 1816     1816       1816   1816  1816\n",
       "unique                                1816       37        383     17     2\n",
       "top     Realme C55 8/256GB Sunshower Libre  Samsung  iPhone 13  Black   Yes\n",
       "freq                                     1      458         60    537  1772"
      ]
     },
     "execution_count": 25,
     "metadata": {},
     "output_type": "execute_result"
    }
   ],
   "source": [
    "df.select_dtypes(include='object').describe()"
   ]
  },
  {
   "cell_type": "code",
   "execution_count": 26,
   "id": "b45b0980",
   "metadata": {},
   "outputs": [],
   "source": [
    "df_num = df.select_dtypes(exclude='object').columns\n",
    "\n",
    "df_cat = df.select_dtypes(include='object').columns"
   ]
  },
  {
   "cell_type": "code",
   "execution_count": 27,
   "id": "54fe309d",
   "metadata": {},
   "outputs": [
    {
     "data": {
      "text/html": [
       "<div>\n",
       "<style scoped>\n",
       "    .dataframe tbody tr th:only-of-type {\n",
       "        vertical-align: middle;\n",
       "    }\n",
       "\n",
       "    .dataframe tbody tr th {\n",
       "        vertical-align: top;\n",
       "    }\n",
       "\n",
       "    .dataframe thead th {\n",
       "        text-align: right;\n",
       "    }\n",
       "</style>\n",
       "<table border=\"1\" class=\"dataframe\">\n",
       "  <thead>\n",
       "    <tr style=\"text-align: right;\">\n",
       "      <th></th>\n",
       "      <th>Smartphone</th>\n",
       "      <th>Brand</th>\n",
       "      <th>Model</th>\n",
       "      <th>RAM</th>\n",
       "      <th>Storage</th>\n",
       "      <th>Color</th>\n",
       "      <th>Free</th>\n",
       "      <th>Final Price</th>\n",
       "    </tr>\n",
       "  </thead>\n",
       "  <tbody>\n",
       "    <tr>\n",
       "      <th>0</th>\n",
       "      <td>Realme C55 8/256GB Sunshower Libre</td>\n",
       "      <td>Realme</td>\n",
       "      <td>C55</td>\n",
       "      <td>8.0</td>\n",
       "      <td>256.0</td>\n",
       "      <td>Yellow</td>\n",
       "      <td>Yes</td>\n",
       "      <td>231.60</td>\n",
       "    </tr>\n",
       "    <tr>\n",
       "      <th>1</th>\n",
       "      <td>Samsung Galaxy M23 5G 4/128GB Azul Libre</td>\n",
       "      <td>Samsung</td>\n",
       "      <td>Galaxy M23</td>\n",
       "      <td>4.0</td>\n",
       "      <td>128.0</td>\n",
       "      <td>Blue</td>\n",
       "      <td>Yes</td>\n",
       "      <td>279.00</td>\n",
       "    </tr>\n",
       "    <tr>\n",
       "      <th>2</th>\n",
       "      <td>Motorola Moto G13 4/128GB Azul Lavanda Libre</td>\n",
       "      <td>Motorola</td>\n",
       "      <td>Moto G13</td>\n",
       "      <td>4.0</td>\n",
       "      <td>128.0</td>\n",
       "      <td>Blue</td>\n",
       "      <td>Yes</td>\n",
       "      <td>179.01</td>\n",
       "    </tr>\n",
       "    <tr>\n",
       "      <th>3</th>\n",
       "      <td>Xiaomi Redmi Note 11S 6/128GB Gris Libre</td>\n",
       "      <td>Xiaomi</td>\n",
       "      <td>Redmi Note 11S</td>\n",
       "      <td>6.0</td>\n",
       "      <td>128.0</td>\n",
       "      <td>Gray</td>\n",
       "      <td>Yes</td>\n",
       "      <td>279.99</td>\n",
       "    </tr>\n",
       "    <tr>\n",
       "      <th>4</th>\n",
       "      <td>Nothing Phone (2) 12/512GB Blanco Libre</td>\n",
       "      <td>Nothing</td>\n",
       "      <td>Phone (2)</td>\n",
       "      <td>12.0</td>\n",
       "      <td>512.0</td>\n",
       "      <td>White</td>\n",
       "      <td>Yes</td>\n",
       "      <td>799.00</td>\n",
       "    </tr>\n",
       "  </tbody>\n",
       "</table>\n",
       "</div>"
      ],
      "text/plain": [
       "                                     Smartphone     Brand           Model  \\\n",
       "0            Realme C55 8/256GB Sunshower Libre    Realme             C55   \n",
       "1      Samsung Galaxy M23 5G 4/128GB Azul Libre   Samsung      Galaxy M23   \n",
       "2  Motorola Moto G13 4/128GB Azul Lavanda Libre  Motorola        Moto G13   \n",
       "3      Xiaomi Redmi Note 11S 6/128GB Gris Libre    Xiaomi  Redmi Note 11S   \n",
       "4       Nothing Phone (2) 12/512GB Blanco Libre   Nothing       Phone (2)   \n",
       "\n",
       "    RAM  Storage   Color Free  Final Price  \n",
       "0   8.0    256.0  Yellow  Yes       231.60  \n",
       "1   4.0    128.0    Blue  Yes       279.00  \n",
       "2   4.0    128.0    Blue  Yes       179.01  \n",
       "3   6.0    128.0    Gray  Yes       279.99  \n",
       "4  12.0    512.0   White  Yes       799.00  "
      ]
     },
     "execution_count": 27,
     "metadata": {},
     "output_type": "execute_result"
    }
   ],
   "source": [
    "df.head()"
   ]
  },
  {
   "cell_type": "code",
   "execution_count": 28,
   "id": "c4c8cc52",
   "metadata": {},
   "outputs": [],
   "source": [
    "# target variable Final price.\n",
    "\n",
    "# target variable is floaing point number so it is regression type.\n"
   ]
  },
  {
   "cell_type": "code",
   "execution_count": 29,
   "id": "2c3c23c7",
   "metadata": {},
   "outputs": [
    {
     "data": {
      "text/plain": [
       "Smartphone       0\n",
       "Brand            0\n",
       "Model            0\n",
       "RAM            483\n",
       "Storage         25\n",
       "Color            0\n",
       "Free             0\n",
       "Final Price      0\n",
       "dtype: int64"
      ]
     },
     "execution_count": 29,
     "metadata": {},
     "output_type": "execute_result"
    }
   ],
   "source": [
    "# null_values\n",
    "\n",
    "df.isnull().sum()"
   ]
  },
  {
   "cell_type": "code",
   "execution_count": 30,
   "id": "1fdb2513",
   "metadata": {},
   "outputs": [],
   "source": [
    "df.drop('Smartphone',axis=1,inplace=True)\n",
    "\n",
    "# smartphone column contains total unique values are 1816 so we drop that column beacuse this column \n",
    "# is not helpful for us to make predictions."
   ]
  },
  {
   "cell_type": "code",
   "execution_count": 31,
   "id": "b245d838",
   "metadata": {},
   "outputs": [],
   "source": [
    "df_cat = df.select_dtypes(include='object')"
   ]
  },
  {
   "cell_type": "code",
   "execution_count": 32,
   "id": "05b49b08",
   "metadata": {},
   "outputs": [
    {
     "name": "stdout",
     "output_type": "stream",
     "text": [
      "Brand\n",
      "Samsung       458\n",
      "Xiaomi        351\n",
      "Apple         292\n",
      "Realme        117\n",
      "OPPO           92\n",
      "POCO           67\n",
      "Motorola       57\n",
      "Huawei         57\n",
      "TCL            36\n",
      "Cubot          34\n",
      "Ulefone        30\n",
      "Blackview      27\n",
      "Vivo           27\n",
      "Honor          27\n",
      "OnePlus        22\n",
      "Hammer         21\n",
      "ZTE            17\n",
      "Nokia          13\n",
      "SPC            11\n",
      "Google          9\n",
      "Nothing         9\n",
      "Alcatel         7\n",
      "Crosscall       7\n",
      "CAT             6\n",
      "Gigaset         3\n",
      "Qubo            3\n",
      "Asus            3\n",
      "Doro            3\n",
      "Sony            2\n",
      "Swissvoice      1\n",
      "Maxcom          1\n",
      "LG              1\n",
      "BQ              1\n",
      "Funker          1\n",
      "Fairphone       1\n",
      "Microsoft       1\n",
      "Lenovo          1\n",
      "Name: count, dtype: int64\n",
      "----------------------------------------\n",
      "Model\n",
      "iPhone 13       60\n",
      "iPhone 14       59\n",
      "iPhone 12       54\n",
      "Galaxy S23      53\n",
      "11 Pro          46\n",
      "                ..\n",
      "Jasper 2         1\n",
      "A53s             1\n",
      "G21              1\n",
      "A57              1\n",
      "Pocophone F2     1\n",
      "Name: count, Length: 383, dtype: int64\n",
      "----------------------------------------\n",
      "Color\n",
      "Black        537\n",
      "Blue         339\n",
      "Gray         196\n",
      "Green        180\n",
      "White        170\n",
      "Silver        86\n",
      "Purple        80\n",
      "Gold          68\n",
      "Red           48\n",
      "Pink          41\n",
      "Orange        30\n",
      "Yellow        24\n",
      "Turquoise      5\n",
      "Brown          4\n",
      "Crystal        4\n",
      "Bronze         3\n",
      "Rainbow        1\n",
      "Name: count, dtype: int64\n",
      "----------------------------------------\n",
      "Free\n",
      "Yes    1772\n",
      "No       44\n",
      "Name: count, dtype: int64\n",
      "----------------------------------------\n"
     ]
    }
   ],
   "source": [
    "for i in df_cat:\n",
    "    print(df[i].value_counts())\n",
    "    print('----------------------------------------')\n",
    "\n",
    "    # value counts for categorical columns."
   ]
  },
  {
   "cell_type": "code",
   "execution_count": 33,
   "id": "137daee9",
   "metadata": {},
   "outputs": [
    {
     "data": {
      "text/html": [
       "<div>\n",
       "<style scoped>\n",
       "    .dataframe tbody tr th:only-of-type {\n",
       "        vertical-align: middle;\n",
       "    }\n",
       "\n",
       "    .dataframe tbody tr th {\n",
       "        vertical-align: top;\n",
       "    }\n",
       "\n",
       "    .dataframe thead th {\n",
       "        text-align: right;\n",
       "    }\n",
       "</style>\n",
       "<table border=\"1\" class=\"dataframe\">\n",
       "  <thead>\n",
       "    <tr style=\"text-align: right;\">\n",
       "      <th></th>\n",
       "      <th>Brand</th>\n",
       "      <th>Model</th>\n",
       "      <th>RAM</th>\n",
       "      <th>Storage</th>\n",
       "      <th>Color</th>\n",
       "      <th>Free</th>\n",
       "      <th>Final Price</th>\n",
       "    </tr>\n",
       "  </thead>\n",
       "  <tbody>\n",
       "    <tr>\n",
       "      <th>58</th>\n",
       "      <td>Xiaomi</td>\n",
       "      <td>Redmi A1</td>\n",
       "      <td>2.0</td>\n",
       "      <td>32.0</td>\n",
       "      <td>Black</td>\n",
       "      <td>Yes</td>\n",
       "      <td>109.00</td>\n",
       "    </tr>\n",
       "    <tr>\n",
       "      <th>234</th>\n",
       "      <td>Motorola</td>\n",
       "      <td>Edge 40</td>\n",
       "      <td>8.0</td>\n",
       "      <td>256.0</td>\n",
       "      <td>Gold</td>\n",
       "      <td>Yes</td>\n",
       "      <td>491.64</td>\n",
       "    </tr>\n",
       "    <tr>\n",
       "      <th>348</th>\n",
       "      <td>Motorola</td>\n",
       "      <td>Razr 40</td>\n",
       "      <td>8.0</td>\n",
       "      <td>256.0</td>\n",
       "      <td>Gold</td>\n",
       "      <td>Yes</td>\n",
       "      <td>899.01</td>\n",
       "    </tr>\n",
       "    <tr>\n",
       "      <th>465</th>\n",
       "      <td>Samsung</td>\n",
       "      <td>Galaxy S21</td>\n",
       "      <td>8.0</td>\n",
       "      <td>256.0</td>\n",
       "      <td>Gray</td>\n",
       "      <td>Yes</td>\n",
       "      <td>649.00</td>\n",
       "    </tr>\n",
       "    <tr>\n",
       "      <th>562</th>\n",
       "      <td>Samsung</td>\n",
       "      <td>Galaxy S20</td>\n",
       "      <td>6.0</td>\n",
       "      <td>128.0</td>\n",
       "      <td>Blue</td>\n",
       "      <td>Yes</td>\n",
       "      <td>649.00</td>\n",
       "    </tr>\n",
       "    <tr>\n",
       "      <th>699</th>\n",
       "      <td>Samsung</td>\n",
       "      <td>Galaxy A14</td>\n",
       "      <td>4.0</td>\n",
       "      <td>128.0</td>\n",
       "      <td>Black</td>\n",
       "      <td>Yes</td>\n",
       "      <td>209.00</td>\n",
       "    </tr>\n",
       "    <tr>\n",
       "      <th>790</th>\n",
       "      <td>Apple</td>\n",
       "      <td>iPhone SE</td>\n",
       "      <td>NaN</td>\n",
       "      <td>64.0</td>\n",
       "      <td>Black</td>\n",
       "      <td>Yes</td>\n",
       "      <td>439.00</td>\n",
       "    </tr>\n",
       "    <tr>\n",
       "      <th>812</th>\n",
       "      <td>Samsung</td>\n",
       "      <td>Galaxy Z Fold4</td>\n",
       "      <td>12.0</td>\n",
       "      <td>256.0</td>\n",
       "      <td>Green</td>\n",
       "      <td>Yes</td>\n",
       "      <td>1799.00</td>\n",
       "    </tr>\n",
       "    <tr>\n",
       "      <th>847</th>\n",
       "      <td>Cubot</td>\n",
       "      <td>X70</td>\n",
       "      <td>12.0</td>\n",
       "      <td>256.0</td>\n",
       "      <td>Black</td>\n",
       "      <td>Yes</td>\n",
       "      <td>249.95</td>\n",
       "    </tr>\n",
       "    <tr>\n",
       "      <th>1005</th>\n",
       "      <td>Realme</td>\n",
       "      <td>7</td>\n",
       "      <td>8.0</td>\n",
       "      <td>128.0</td>\n",
       "      <td>Blue</td>\n",
       "      <td>Yes</td>\n",
       "      <td>239.00</td>\n",
       "    </tr>\n",
       "    <tr>\n",
       "      <th>1226</th>\n",
       "      <td>Samsung</td>\n",
       "      <td>Galaxy S20</td>\n",
       "      <td>6.0</td>\n",
       "      <td>128.0</td>\n",
       "      <td>Green</td>\n",
       "      <td>Yes</td>\n",
       "      <td>649.00</td>\n",
       "    </tr>\n",
       "    <tr>\n",
       "      <th>1269</th>\n",
       "      <td>Samsung</td>\n",
       "      <td>Galaxy S20</td>\n",
       "      <td>6.0</td>\n",
       "      <td>128.0</td>\n",
       "      <td>Orange</td>\n",
       "      <td>Yes</td>\n",
       "      <td>649.00</td>\n",
       "    </tr>\n",
       "    <tr>\n",
       "      <th>1274</th>\n",
       "      <td>Xiaomi</td>\n",
       "      <td>10</td>\n",
       "      <td>6.0</td>\n",
       "      <td>128.0</td>\n",
       "      <td>Gray</td>\n",
       "      <td>Yes</td>\n",
       "      <td>349.00</td>\n",
       "    </tr>\n",
       "    <tr>\n",
       "      <th>1561</th>\n",
       "      <td>Samsung</td>\n",
       "      <td>Galaxy S20</td>\n",
       "      <td>6.0</td>\n",
       "      <td>128.0</td>\n",
       "      <td>Red</td>\n",
       "      <td>Yes</td>\n",
       "      <td>649.00</td>\n",
       "    </tr>\n",
       "    <tr>\n",
       "      <th>1581</th>\n",
       "      <td>Samsung</td>\n",
       "      <td>Galaxy S22</td>\n",
       "      <td>8.0</td>\n",
       "      <td>128.0</td>\n",
       "      <td>Black</td>\n",
       "      <td>Yes</td>\n",
       "      <td>889.99</td>\n",
       "    </tr>\n",
       "    <tr>\n",
       "      <th>1809</th>\n",
       "      <td>Xiaomi</td>\n",
       "      <td>Redmi Note 10</td>\n",
       "      <td>8.0</td>\n",
       "      <td>128.0</td>\n",
       "      <td>Blue</td>\n",
       "      <td>Yes</td>\n",
       "      <td>349.00</td>\n",
       "    </tr>\n",
       "  </tbody>\n",
       "</table>\n",
       "</div>"
      ],
      "text/plain": [
       "         Brand           Model   RAM  Storage   Color Free  Final Price\n",
       "58      Xiaomi        Redmi A1   2.0     32.0   Black  Yes       109.00\n",
       "234   Motorola         Edge 40   8.0    256.0    Gold  Yes       491.64\n",
       "348   Motorola         Razr 40   8.0    256.0    Gold  Yes       899.01\n",
       "465    Samsung      Galaxy S21   8.0    256.0    Gray  Yes       649.00\n",
       "562    Samsung      Galaxy S20   6.0    128.0    Blue  Yes       649.00\n",
       "699    Samsung      Galaxy A14   4.0    128.0   Black  Yes       209.00\n",
       "790      Apple       iPhone SE   NaN     64.0   Black  Yes       439.00\n",
       "812    Samsung  Galaxy Z Fold4  12.0    256.0   Green  Yes      1799.00\n",
       "847      Cubot             X70  12.0    256.0   Black  Yes       249.95\n",
       "1005    Realme               7   8.0    128.0    Blue  Yes       239.00\n",
       "1226   Samsung      Galaxy S20   6.0    128.0   Green  Yes       649.00\n",
       "1269   Samsung      Galaxy S20   6.0    128.0  Orange  Yes       649.00\n",
       "1274    Xiaomi              10   6.0    128.0    Gray  Yes       349.00\n",
       "1561   Samsung      Galaxy S20   6.0    128.0     Red  Yes       649.00\n",
       "1581   Samsung      Galaxy S22   8.0    128.0   Black  Yes       889.99\n",
       "1809    Xiaomi   Redmi Note 10   8.0    128.0    Blue  Yes       349.00"
      ]
     },
     "execution_count": 33,
     "metadata": {},
     "output_type": "execute_result"
    }
   ],
   "source": [
    "# duplicates\n",
    "\n",
    "df[df.duplicated(keep='first')]  # there are so many duplicated rows so we have to remove it."
   ]
  },
  {
   "cell_type": "code",
   "execution_count": 34,
   "id": "55734b94",
   "metadata": {},
   "outputs": [],
   "source": [
    "df.drop_duplicates(keep='first',inplace=True)"
   ]
  },
  {
   "cell_type": "code",
   "execution_count": 35,
   "id": "150719a3",
   "metadata": {},
   "outputs": [
    {
     "data": {
      "text/html": [
       "<div>\n",
       "<style scoped>\n",
       "    .dataframe tbody tr th:only-of-type {\n",
       "        vertical-align: middle;\n",
       "    }\n",
       "\n",
       "    .dataframe tbody tr th {\n",
       "        vertical-align: top;\n",
       "    }\n",
       "\n",
       "    .dataframe thead th {\n",
       "        text-align: right;\n",
       "    }\n",
       "</style>\n",
       "<table border=\"1\" class=\"dataframe\">\n",
       "  <thead>\n",
       "    <tr style=\"text-align: right;\">\n",
       "      <th></th>\n",
       "      <th>Brand</th>\n",
       "      <th>Model</th>\n",
       "      <th>RAM</th>\n",
       "      <th>Storage</th>\n",
       "      <th>Color</th>\n",
       "      <th>Free</th>\n",
       "      <th>Final Price</th>\n",
       "    </tr>\n",
       "  </thead>\n",
       "  <tbody>\n",
       "  </tbody>\n",
       "</table>\n",
       "</div>"
      ],
      "text/plain": [
       "Empty DataFrame\n",
       "Columns: [Brand, Model, RAM, Storage, Color, Free, Final Price]\n",
       "Index: []"
      ]
     },
     "execution_count": 35,
     "metadata": {},
     "output_type": "execute_result"
    }
   ],
   "source": [
    "df[df.duplicated()]  # now we deleting rows from data"
   ]
  },
  {
   "cell_type": "raw",
   "id": "27617126",
   "metadata": {},
   "source": [
    "problem statement :- \n",
    "    \n",
    "build a machine learning model to predict the price of the smartphones on the basis of independent faetures like brand,Ram,storage.   "
   ]
  },
  {
   "cell_type": "markdown",
   "id": "630fe3fa",
   "metadata": {},
   "source": [
    "# Data Exploration (EDA)"
   ]
  },
  {
   "cell_type": "markdown",
   "id": "7d1e73b7",
   "metadata": {},
   "source": [
    "Relationship between variables\n",
    "- Check for \n",
    "\n",
    "o multi-collinearity\n",
    "\n",
    "o distribution of variables\n",
    "\n",
    "o presence of outliers and its treatment \n",
    "\n",
    "o statistical significance of variables\n",
    "\n",
    "o class imbalance and its treatment\n",
    "\n"
   ]
  },
  {
   "cell_type": "code",
   "execution_count": 36,
   "id": "cc853bd7",
   "metadata": {},
   "outputs": [
    {
     "data": {
      "text/plain": [
       "Brand           object\n",
       "Model           object\n",
       "RAM            float64\n",
       "Storage        float64\n",
       "Color           object\n",
       "Free            object\n",
       "Final Price    float64\n",
       "dtype: object"
      ]
     },
     "execution_count": 36,
     "metadata": {},
     "output_type": "execute_result"
    }
   ],
   "source": [
    "df.dtypes"
   ]
  },
  {
   "cell_type": "code",
   "execution_count": 37,
   "id": "a491ade8",
   "metadata": {},
   "outputs": [],
   "source": [
    "df_numerical = df[['RAM','Storage','Final Price']]"
   ]
  },
  {
   "cell_type": "code",
   "execution_count": 38,
   "id": "592c8f3a",
   "metadata": {},
   "outputs": [],
   "source": [
    "import seaborn as sns"
   ]
  },
  {
   "cell_type": "code",
   "execution_count": 39,
   "id": "e61413fc",
   "metadata": {},
   "outputs": [
    {
     "data": {
      "text/plain": [
       "<Axes: >"
      ]
     },
     "execution_count": 39,
     "metadata": {},
     "output_type": "execute_result"
    },
    {
     "data": {
      "image/png": "[encoded data removed]",
      "text/plain": [
       "<Figure size 640x480 with 2 Axes>"
      ]
     },
     "metadata": {},
     "output_type": "display_data"
    }
   ],
   "source": [
    "# Multicolinearity in ind.variables\n",
    "\n",
    "sns.heatmap(df_numerical.corr(),annot=True)"
   ]
  },
  {
   "cell_type": "raw",
   "id": "a9e00904",
   "metadata": {},
   "source": [
    "there is an multicolineraity but we cannot drop any column because we have minimum attributes for\n",
    "\n",
    "prediction so we avoid here to drop the column."
   ]
  },
  {
   "cell_type": "code",
   "execution_count": 40,
   "id": "a0c04073",
   "metadata": {},
   "outputs": [],
   "source": [
    "import seaborn as sns\n",
    "import matplotlib.pyplot as plt\n",
    "import numpy as np\n",
    "from sklearn.preprocessing import StandardScaler"
   ]
  },
  {
   "cell_type": "code",
   "execution_count": 41,
   "id": "44c2c5bd",
   "metadata": {
    "scrolled": true
   },
   "outputs": [
    {
     "data": {
      "image/png": "[encoded data removed]",
      "text/plain": [
       "<Figure size 640x480 with 1 Axes>"
      ]
     },
     "metadata": {},
     "output_type": "display_data"
    },
    {
     "data": {
      "image/png": "[encoded data removed]",
      "text/plain": [
       "<Figure size 640x480 with 1 Axes>"
      ]
     },
     "metadata": {},
     "output_type": "display_data"
    },
    {
     "data": {
      "image/png": "[encoded data removed]",
      "text/plain": [
       "<Figure size 640x480 with 1 Axes>"
      ]
     },
     "metadata": {},
     "output_type": "display_data"
    }
   ],
   "source": [
    "# checking for outliers\n",
    "\n",
    "for i in df_num:\n",
    "    sns.boxplot(df[i])\n",
    "    plt.show()\n",
    "    "
   ]
  },
  {
   "cell_type": "code",
   "execution_count": 42,
   "id": "08f42ba4",
   "metadata": {},
   "outputs": [
    {
     "data": {
      "text/plain": [
       "Index(['Brand', 'Model', 'RAM', 'Storage', 'Color', 'Free', 'Final Price'], dtype='object')"
      ]
     },
     "execution_count": 42,
     "metadata": {},
     "output_type": "execute_result"
    }
   ],
   "source": [
    "df.columns"
   ]
  },
  {
   "cell_type": "code",
   "execution_count": 43,
   "id": "1b633179",
   "metadata": {},
   "outputs": [
    {
     "data": {
      "text/plain": [
       "Brand           object\n",
       "Model           object\n",
       "RAM            float64\n",
       "Storage        float64\n",
       "Color           object\n",
       "Free            object\n",
       "Final Price    float64\n",
       "dtype: object"
      ]
     },
     "execution_count": 43,
     "metadata": {},
     "output_type": "execute_result"
    }
   ],
   "source": [
    "df.dtypes"
   ]
  },
  {
   "cell_type": "code",
   "execution_count": 44,
   "id": "31205850",
   "metadata": {},
   "outputs": [
    {
     "data": {
      "text/plain": [
       "Brand            0\n",
       "Model            0\n",
       "RAM            482\n",
       "Storage         25\n",
       "Color            0\n",
       "Free             0\n",
       "Final Price      0\n",
       "dtype: int64"
      ]
     },
     "execution_count": 44,
     "metadata": {},
     "output_type": "execute_result"
    }
   ],
   "source": [
    "df.isnull().sum()"
   ]
  },
  {
   "cell_type": "code",
   "execution_count": 45,
   "id": "f955bbd4",
   "metadata": {},
   "outputs": [],
   "source": [
    "# imputing null values\n",
    "\n",
    "df['RAM'] = df['RAM'].fillna(df['RAM'].mean())\n",
    "\n",
    "df['Storage'] = df['Storage'].fillna(df['Storage'].mean())"
   ]
  },
  {
   "cell_type": "code",
   "execution_count": 46,
   "id": "6c70c8cb",
   "metadata": {},
   "outputs": [
    {
     "data": {
      "text/plain": [
       "Brand          0\n",
       "Model          0\n",
       "RAM            0\n",
       "Storage        0\n",
       "Color          0\n",
       "Free           0\n",
       "Final Price    0\n",
       "dtype: int64"
      ]
     },
     "execution_count": 46,
     "metadata": {},
     "output_type": "execute_result"
    }
   ],
   "source": [
    "df.isnull().sum()  # null values are removed"
   ]
  },
  {
   "cell_type": "code",
   "execution_count": 47,
   "id": "73f25a06",
   "metadata": {},
   "outputs": [
    {
     "data": {
      "text/plain": [
       "(1709, 7)"
      ]
     },
     "execution_count": 47,
     "metadata": {},
     "output_type": "execute_result"
    }
   ],
   "source": [
    "# Outlier_treatment...\n",
    "\n",
    "q1 = df_numerical.quantile(0.25)\n",
    "\n",
    "q3 = df_numerical.quantile(0.75)\n",
    "\n",
    "iqr = q3 - q1 \n",
    "\n",
    "ll = q1 - (1.5*iqr)\n",
    "\n",
    "ul = q3 + (1.5*iqr)\n",
    "\n",
    "df = df[~((df_numerical<ll) | (df_numerical>ul)).any(axis=1)]\n",
    "\n",
    "df.shape"
   ]
  },
  {
   "cell_type": "code",
   "execution_count": 48,
   "id": "69a733b2",
   "metadata": {},
   "outputs": [],
   "source": [
    "df1 = df.copy()"
   ]
  },
  {
   "cell_type": "code",
   "execution_count": 49,
   "id": "2fa39741",
   "metadata": {},
   "outputs": [
    {
     "data": {
      "text/html": [
       "<div>\n",
       "<style scoped>\n",
       "    .dataframe tbody tr th:only-of-type {\n",
       "        vertical-align: middle;\n",
       "    }\n",
       "\n",
       "    .dataframe tbody tr th {\n",
       "        vertical-align: top;\n",
       "    }\n",
       "\n",
       "    .dataframe thead th {\n",
       "        text-align: right;\n",
       "    }\n",
       "</style>\n",
       "<table border=\"1\" class=\"dataframe\">\n",
       "  <thead>\n",
       "    <tr style=\"text-align: right;\">\n",
       "      <th></th>\n",
       "      <th>Brand</th>\n",
       "      <th>Model</th>\n",
       "      <th>RAM</th>\n",
       "      <th>Storage</th>\n",
       "      <th>Color</th>\n",
       "      <th>Free</th>\n",
       "      <th>Final Price</th>\n",
       "    </tr>\n",
       "  </thead>\n",
       "  <tbody>\n",
       "    <tr>\n",
       "      <th>0</th>\n",
       "      <td>Realme</td>\n",
       "      <td>C55</td>\n",
       "      <td>8.0</td>\n",
       "      <td>256.0</td>\n",
       "      <td>Yellow</td>\n",
       "      <td>Yes</td>\n",
       "      <td>231.60</td>\n",
       "    </tr>\n",
       "    <tr>\n",
       "      <th>1</th>\n",
       "      <td>Samsung</td>\n",
       "      <td>Galaxy M23</td>\n",
       "      <td>4.0</td>\n",
       "      <td>128.0</td>\n",
       "      <td>Blue</td>\n",
       "      <td>Yes</td>\n",
       "      <td>279.00</td>\n",
       "    </tr>\n",
       "    <tr>\n",
       "      <th>2</th>\n",
       "      <td>Motorola</td>\n",
       "      <td>Moto G13</td>\n",
       "      <td>4.0</td>\n",
       "      <td>128.0</td>\n",
       "      <td>Blue</td>\n",
       "      <td>Yes</td>\n",
       "      <td>179.01</td>\n",
       "    </tr>\n",
       "    <tr>\n",
       "      <th>3</th>\n",
       "      <td>Xiaomi</td>\n",
       "      <td>Redmi Note 11S</td>\n",
       "      <td>6.0</td>\n",
       "      <td>128.0</td>\n",
       "      <td>Gray</td>\n",
       "      <td>Yes</td>\n",
       "      <td>279.99</td>\n",
       "    </tr>\n",
       "    <tr>\n",
       "      <th>4</th>\n",
       "      <td>Nothing</td>\n",
       "      <td>Phone (2)</td>\n",
       "      <td>12.0</td>\n",
       "      <td>512.0</td>\n",
       "      <td>White</td>\n",
       "      <td>Yes</td>\n",
       "      <td>799.00</td>\n",
       "    </tr>\n",
       "  </tbody>\n",
       "</table>\n",
       "</div>"
      ],
      "text/plain": [
       "      Brand           Model   RAM  Storage   Color Free  Final Price\n",
       "0    Realme             C55   8.0    256.0  Yellow  Yes       231.60\n",
       "1   Samsung      Galaxy M23   4.0    128.0    Blue  Yes       279.00\n",
       "2  Motorola        Moto G13   4.0    128.0    Blue  Yes       179.01\n",
       "3    Xiaomi  Redmi Note 11S   6.0    128.0    Gray  Yes       279.99\n",
       "4   Nothing       Phone (2)  12.0    512.0   White  Yes       799.00"
      ]
     },
     "execution_count": 49,
     "metadata": {},
     "output_type": "execute_result"
    }
   ],
   "source": [
    "df1.head()"
   ]
  },
  {
   "cell_type": "markdown",
   "id": "04f1cd29",
   "metadata": {},
   "source": [
    "# Visualizations"
   ]
  },
  {
   "cell_type": "code",
   "execution_count": 50,
   "id": "1bcbc9fc",
   "metadata": {},
   "outputs": [
    {
     "data": {
      "text/plain": [
       "<Axes: xlabel='Final Price', ylabel='RAM'>"
      ]
     },
     "execution_count": 50,
     "metadata": {},
     "output_type": "execute_result"
    },
    {
     "data": {
      "image/png": "[encoded data removed]",
      "text/plain": [
       "<Figure size 640x480 with 1 Axes>"
      ]
     },
     "metadata": {},
     "output_type": "display_data"
    }
   ],
   "source": [
    "sns.scatterplot(data=df,x='Final Price',y='RAM')"
   ]
  },
  {
   "cell_type": "code",
   "execution_count": 51,
   "id": "e103fa46",
   "metadata": {},
   "outputs": [
    {
     "data": {
      "text/plain": [
       "<Axes: xlabel='Color', ylabel='Storage'>"
      ]
     },
     "execution_count": 51,
     "metadata": {},
     "output_type": "execute_result"
    },
    {
     "data": {
      "image/png": "[encoded data removed]",
      "text/plain": [
       "<Figure size 2000x2000 with 1 Axes>"
      ]
     },
     "metadata": {},
     "output_type": "display_data"
    }
   ],
   "source": [
    "plt.figure(figsize=(20,20))\n",
    "\n",
    "sns.barplot(data=df,x='Color',y='Storage')"
   ]
  },
  {
   "cell_type": "code",
   "execution_count": 52,
   "id": "5ae32f09",
   "metadata": {},
   "outputs": [
    {
     "data": {
      "text/plain": [
       "<Axes: xlabel='Final Price', ylabel='Storage'>"
      ]
     },
     "execution_count": 52,
     "metadata": {},
     "output_type": "execute_result"
    },
    {
     "data": {
      "image/png": "[encoded data removed]",
      "text/plain": [
       "<Figure size 640x480 with 1 Axes>"
      ]
     },
     "metadata": {},
     "output_type": "display_data"
    }
   ],
   "source": [
    "sns.scatterplot(data=df,x='Final Price',y='Storage')"
   ]
  },
  {
   "cell_type": "code",
   "execution_count": 53,
   "id": "3a073ac6",
   "metadata": {},
   "outputs": [
    {
     "data": {
      "text/plain": [
       "<Axes: xlabel='Storage', ylabel='RAM'>"
      ]
     },
     "execution_count": 53,
     "metadata": {},
     "output_type": "execute_result"
    },
    {
     "data": {
      "image/png": "[encoded data removed]",
      "text/plain": [
       "<Figure size 640x480 with 1 Axes>"
      ]
     },
     "metadata": {},
     "output_type": "display_data"
    }
   ],
   "source": [
    "sns.scatterplot(data=df,x='Storage',y='RAM')"
   ]
  },
  {
   "cell_type": "code",
   "execution_count": 54,
   "id": "5ab47567",
   "metadata": {},
   "outputs": [
    {
     "data": {
      "text/plain": [
       "<Axes: xlabel='Brand'>"
      ]
     },
     "execution_count": 54,
     "metadata": {},
     "output_type": "execute_result"
    },
    {
     "data": {
      "image/png": "[encoded data removed]",
      "text/plain": [
       "<Figure size 640x480 with 1 Axes>"
      ]
     },
     "metadata": {},
     "output_type": "display_data"
    }
   ],
   "source": [
    "df.groupby('Brand')['Final Price'].mean().plot(kind='bar')"
   ]
  },
  {
   "cell_type": "code",
   "execution_count": 55,
   "id": "ffd831be",
   "metadata": {},
   "outputs": [
    {
     "data": {
      "text/plain": [
       "<seaborn.axisgrid.PairGrid at 0x16269850f10>"
      ]
     },
     "execution_count": 55,
     "metadata": {},
     "output_type": "execute_result"
    },
    {
     "data": {
      "text/plain": [
       "<Figure size 1500x1500 with 0 Axes>"
      ]
     },
     "metadata": {},
     "output_type": "display_data"
    },
    {
     "data": {
      "image/png": "[encoded data removed]",
      "text/plain": [
       "<Figure size 750x750 with 12 Axes>"
      ]
     },
     "metadata": {},
     "output_type": "display_data"
    }
   ],
   "source": [
    "plt.figure(figsize=(15,15))\n",
    "sns.pairplot(data=df)\n"
   ]
  },
  {
   "cell_type": "code",
   "execution_count": 56,
   "id": "eacf9bb1",
   "metadata": {},
   "outputs": [
    {
     "data": {
      "text/plain": [
       "<Axes: xlabel='Color'>"
      ]
     },
     "execution_count": 56,
     "metadata": {},
     "output_type": "execute_result"
    },
    {
     "data": {
      "image/png": "[encoded data removed]",
      "text/plain": [
       "<Figure size 640x480 with 1 Axes>"
      ]
     },
     "metadata": {},
     "output_type": "display_data"
    }
   ],
   "source": [
    "df.groupby('Color')['Final Price'].mean().plot(kind='bar')"
   ]
  },
  {
   "cell_type": "raw",
   "id": "34317984",
   "metadata": {},
   "source": [
    "---inference \n",
    "\n",
    "- there is some relation between ram and final price but not much because price of the phone depends on the brand.\n",
    "- there is some relation between storage and final price but not much because price of the phone depends on the brand.\n",
    "- there is positive relation between ram and storage when ram increases storage increases.\n",
    "- there are some high price level brands like apple,asus,samsung..."
   ]
  },
  {
   "cell_type": "raw",
   "id": "57899cb5",
   "metadata": {},
   "source": [
    "---class imbalance \n",
    "\n",
    "it is not classification model so there is no need to balance the target variable"
   ]
  },
  {
   "cell_type": "markdown",
   "id": "05300e5a",
   "metadata": {},
   "source": [
    "# Feature Engineering"
   ]
  },
  {
   "cell_type": "markdown",
   "id": "88465be1",
   "metadata": {},
   "source": [
    "\n",
    "- Whether any transformations required\n",
    "- Scaling the data\n",
    "- Feature selection \n",
    "- Dimensionality reduction\n"
   ]
  },
  {
   "cell_type": "code",
   "execution_count": 57,
   "id": "0995d095",
   "metadata": {},
   "outputs": [],
   "source": [
    "# converting object columns to int type.(because model not accepting objects)\n",
    "\n",
    "df = pd.get_dummies(data=df,columns=['Brand', 'Model', 'Color', 'Free'],dtype='int',drop_first=True)"
   ]
  },
  {
   "cell_type": "code",
   "execution_count": 58,
   "id": "2763112e",
   "metadata": {},
   "outputs": [
    {
     "data": {
      "text/html": [
       "<div>\n",
       "<style scoped>\n",
       "    .dataframe tbody tr th:only-of-type {\n",
       "        vertical-align: middle;\n",
       "    }\n",
       "\n",
       "    .dataframe tbody tr th {\n",
       "        vertical-align: top;\n",
       "    }\n",
       "\n",
       "    .dataframe thead th {\n",
       "        text-align: right;\n",
       "    }\n",
       "</style>\n",
       "<table border=\"1\" class=\"dataframe\">\n",
       "  <thead>\n",
       "    <tr style=\"text-align: right;\">\n",
       "      <th></th>\n",
       "      <th>RAM</th>\n",
       "      <th>Storage</th>\n",
       "      <th>Final Price</th>\n",
       "      <th>Brand_Apple</th>\n",
       "      <th>Brand_Asus</th>\n",
       "      <th>Brand_BQ</th>\n",
       "      <th>Brand_Blackview</th>\n",
       "      <th>Brand_CAT</th>\n",
       "      <th>Brand_Crosscall</th>\n",
       "      <th>Brand_Cubot</th>\n",
       "      <th>...</th>\n",
       "      <th>Color_Orange</th>\n",
       "      <th>Color_Pink</th>\n",
       "      <th>Color_Purple</th>\n",
       "      <th>Color_Rainbow</th>\n",
       "      <th>Color_Red</th>\n",
       "      <th>Color_Silver</th>\n",
       "      <th>Color_Turquoise</th>\n",
       "      <th>Color_White</th>\n",
       "      <th>Color_Yellow</th>\n",
       "      <th>Free_Yes</th>\n",
       "    </tr>\n",
       "  </thead>\n",
       "  <tbody>\n",
       "    <tr>\n",
       "      <th>0</th>\n",
       "      <td>8.0</td>\n",
       "      <td>256.0</td>\n",
       "      <td>231.60</td>\n",
       "      <td>0</td>\n",
       "      <td>0</td>\n",
       "      <td>0</td>\n",
       "      <td>0</td>\n",
       "      <td>0</td>\n",
       "      <td>0</td>\n",
       "      <td>0</td>\n",
       "      <td>...</td>\n",
       "      <td>0</td>\n",
       "      <td>0</td>\n",
       "      <td>0</td>\n",
       "      <td>0</td>\n",
       "      <td>0</td>\n",
       "      <td>0</td>\n",
       "      <td>0</td>\n",
       "      <td>0</td>\n",
       "      <td>1</td>\n",
       "      <td>1</td>\n",
       "    </tr>\n",
       "    <tr>\n",
       "      <th>1</th>\n",
       "      <td>4.0</td>\n",
       "      <td>128.0</td>\n",
       "      <td>279.00</td>\n",
       "      <td>0</td>\n",
       "      <td>0</td>\n",
       "      <td>0</td>\n",
       "      <td>0</td>\n",
       "      <td>0</td>\n",
       "      <td>0</td>\n",
       "      <td>0</td>\n",
       "      <td>...</td>\n",
       "      <td>0</td>\n",
       "      <td>0</td>\n",
       "      <td>0</td>\n",
       "      <td>0</td>\n",
       "      <td>0</td>\n",
       "      <td>0</td>\n",
       "      <td>0</td>\n",
       "      <td>0</td>\n",
       "      <td>0</td>\n",
       "      <td>1</td>\n",
       "    </tr>\n",
       "    <tr>\n",
       "      <th>2</th>\n",
       "      <td>4.0</td>\n",
       "      <td>128.0</td>\n",
       "      <td>179.01</td>\n",
       "      <td>0</td>\n",
       "      <td>0</td>\n",
       "      <td>0</td>\n",
       "      <td>0</td>\n",
       "      <td>0</td>\n",
       "      <td>0</td>\n",
       "      <td>0</td>\n",
       "      <td>...</td>\n",
       "      <td>0</td>\n",
       "      <td>0</td>\n",
       "      <td>0</td>\n",
       "      <td>0</td>\n",
       "      <td>0</td>\n",
       "      <td>0</td>\n",
       "      <td>0</td>\n",
       "      <td>0</td>\n",
       "      <td>0</td>\n",
       "      <td>1</td>\n",
       "    </tr>\n",
       "    <tr>\n",
       "      <th>3</th>\n",
       "      <td>6.0</td>\n",
       "      <td>128.0</td>\n",
       "      <td>279.99</td>\n",
       "      <td>0</td>\n",
       "      <td>0</td>\n",
       "      <td>0</td>\n",
       "      <td>0</td>\n",
       "      <td>0</td>\n",
       "      <td>0</td>\n",
       "      <td>0</td>\n",
       "      <td>...</td>\n",
       "      <td>0</td>\n",
       "      <td>0</td>\n",
       "      <td>0</td>\n",
       "      <td>0</td>\n",
       "      <td>0</td>\n",
       "      <td>0</td>\n",
       "      <td>0</td>\n",
       "      <td>0</td>\n",
       "      <td>0</td>\n",
       "      <td>1</td>\n",
       "    </tr>\n",
       "    <tr>\n",
       "      <th>4</th>\n",
       "      <td>12.0</td>\n",
       "      <td>512.0</td>\n",
       "      <td>799.00</td>\n",
       "      <td>0</td>\n",
       "      <td>0</td>\n",
       "      <td>0</td>\n",
       "      <td>0</td>\n",
       "      <td>0</td>\n",
       "      <td>0</td>\n",
       "      <td>0</td>\n",
       "      <td>...</td>\n",
       "      <td>0</td>\n",
       "      <td>0</td>\n",
       "      <td>0</td>\n",
       "      <td>0</td>\n",
       "      <td>0</td>\n",
       "      <td>0</td>\n",
       "      <td>0</td>\n",
       "      <td>1</td>\n",
       "      <td>0</td>\n",
       "      <td>1</td>\n",
       "    </tr>\n",
       "  </tbody>\n",
       "</table>\n",
       "<p>5 rows × 437 columns</p>\n",
       "</div>"
      ],
      "text/plain": [
       "    RAM  Storage  Final Price  Brand_Apple  Brand_Asus  Brand_BQ  \\\n",
       "0   8.0    256.0       231.60            0           0         0   \n",
       "1   4.0    128.0       279.00            0           0         0   \n",
       "2   4.0    128.0       179.01            0           0         0   \n",
       "3   6.0    128.0       279.99            0           0         0   \n",
       "4  12.0    512.0       799.00            0           0         0   \n",
       "\n",
       "   Brand_Blackview  Brand_CAT  Brand_Crosscall  Brand_Cubot  ...  \\\n",
       "0                0          0                0            0  ...   \n",
       "1                0          0                0            0  ...   \n",
       "2                0          0                0            0  ...   \n",
       "3                0          0                0            0  ...   \n",
       "4                0          0                0            0  ...   \n",
       "\n",
       "   Color_Orange  Color_Pink  Color_Purple  Color_Rainbow  Color_Red  \\\n",
       "0             0           0             0              0          0   \n",
       "1             0           0             0              0          0   \n",
       "2             0           0             0              0          0   \n",
       "3             0           0             0              0          0   \n",
       "4             0           0             0              0          0   \n",
       "\n",
       "   Color_Silver  Color_Turquoise  Color_White  Color_Yellow  Free_Yes  \n",
       "0             0                0            0             1         1  \n",
       "1             0                0            0             0         1  \n",
       "2             0                0            0             0         1  \n",
       "3             0                0            0             0         1  \n",
       "4             0                0            1             0         1  \n",
       "\n",
       "[5 rows x 437 columns]"
      ]
     },
     "execution_count": 58,
     "metadata": {},
     "output_type": "execute_result"
    }
   ],
   "source": [
    "df.head()"
   ]
  },
  {
   "cell_type": "code",
   "execution_count": 59,
   "id": "dac4fe1f",
   "metadata": {},
   "outputs": [
    {
     "data": {
      "text/plain": [
       "(1709, 437)"
      ]
     },
     "execution_count": 59,
     "metadata": {},
     "output_type": "execute_result"
    }
   ],
   "source": [
    "df.shape"
   ]
  },
  {
   "cell_type": "code",
   "execution_count": 60,
   "id": "c88cc8f6",
   "metadata": {},
   "outputs": [
    {
     "data": {
      "text/plain": [
       "RAM                float64\n",
       "Storage            float64\n",
       "Final Price        float64\n",
       "Brand_Apple          int32\n",
       "Brand_Asus           int32\n",
       "                    ...   \n",
       "Color_Silver         int32\n",
       "Color_Turquoise      int32\n",
       "Color_White          int32\n",
       "Color_Yellow         int32\n",
       "Free_Yes             int32\n",
       "Length: 437, dtype: object"
      ]
     },
     "execution_count": 60,
     "metadata": {},
     "output_type": "execute_result"
    }
   ],
   "source": [
    "df.dtypes"
   ]
  },
  {
   "cell_type": "code",
   "execution_count": 61,
   "id": "dfeb9e92",
   "metadata": {},
   "outputs": [],
   "source": [
    "std = StandardScaler()\n",
    "\n",
    "list1 = df[['RAM','Storage']]\n",
    "\n",
    "for i in list1:\n",
    "    df[i] = std.fit_transform(df[[i]])"
   ]
  },
  {
   "cell_type": "code",
   "execution_count": 62,
   "id": "1d511ad5",
   "metadata": {},
   "outputs": [
    {
     "data": {
      "text/html": [
       "<div>\n",
       "<style scoped>\n",
       "    .dataframe tbody tr th:only-of-type {\n",
       "        vertical-align: middle;\n",
       "    }\n",
       "\n",
       "    .dataframe tbody tr th {\n",
       "        vertical-align: top;\n",
       "    }\n",
       "\n",
       "    .dataframe thead th {\n",
       "        text-align: right;\n",
       "    }\n",
       "</style>\n",
       "<table border=\"1\" class=\"dataframe\">\n",
       "  <thead>\n",
       "    <tr style=\"text-align: right;\">\n",
       "      <th></th>\n",
       "      <th>RAM</th>\n",
       "      <th>Storage</th>\n",
       "      <th>Final Price</th>\n",
       "      <th>Brand_Apple</th>\n",
       "      <th>Brand_Asus</th>\n",
       "      <th>Brand_BQ</th>\n",
       "      <th>Brand_Blackview</th>\n",
       "      <th>Brand_CAT</th>\n",
       "      <th>Brand_Crosscall</th>\n",
       "      <th>Brand_Cubot</th>\n",
       "      <th>...</th>\n",
       "      <th>Color_Orange</th>\n",
       "      <th>Color_Pink</th>\n",
       "      <th>Color_Purple</th>\n",
       "      <th>Color_Rainbow</th>\n",
       "      <th>Color_Red</th>\n",
       "      <th>Color_Silver</th>\n",
       "      <th>Color_Turquoise</th>\n",
       "      <th>Color_White</th>\n",
       "      <th>Color_Yellow</th>\n",
       "      <th>Free_Yes</th>\n",
       "    </tr>\n",
       "  </thead>\n",
       "  <tbody>\n",
       "    <tr>\n",
       "      <th>0</th>\n",
       "      <td>0.935989</td>\n",
       "      <td>1.111001</td>\n",
       "      <td>231.60</td>\n",
       "      <td>0</td>\n",
       "      <td>0</td>\n",
       "      <td>0</td>\n",
       "      <td>0</td>\n",
       "      <td>0</td>\n",
       "      <td>0</td>\n",
       "      <td>0</td>\n",
       "      <td>...</td>\n",
       "      <td>0</td>\n",
       "      <td>0</td>\n",
       "      <td>0</td>\n",
       "      <td>0</td>\n",
       "      <td>0</td>\n",
       "      <td>0</td>\n",
       "      <td>0</td>\n",
       "      <td>0</td>\n",
       "      <td>1</td>\n",
       "      <td>1</td>\n",
       "    </tr>\n",
       "    <tr>\n",
       "      <th>1</th>\n",
       "      <td>-0.834549</td>\n",
       "      <td>-0.168941</td>\n",
       "      <td>279.00</td>\n",
       "      <td>0</td>\n",
       "      <td>0</td>\n",
       "      <td>0</td>\n",
       "      <td>0</td>\n",
       "      <td>0</td>\n",
       "      <td>0</td>\n",
       "      <td>0</td>\n",
       "      <td>...</td>\n",
       "      <td>0</td>\n",
       "      <td>0</td>\n",
       "      <td>0</td>\n",
       "      <td>0</td>\n",
       "      <td>0</td>\n",
       "      <td>0</td>\n",
       "      <td>0</td>\n",
       "      <td>0</td>\n",
       "      <td>0</td>\n",
       "      <td>1</td>\n",
       "    </tr>\n",
       "    <tr>\n",
       "      <th>2</th>\n",
       "      <td>-0.834549</td>\n",
       "      <td>-0.168941</td>\n",
       "      <td>179.01</td>\n",
       "      <td>0</td>\n",
       "      <td>0</td>\n",
       "      <td>0</td>\n",
       "      <td>0</td>\n",
       "      <td>0</td>\n",
       "      <td>0</td>\n",
       "      <td>0</td>\n",
       "      <td>...</td>\n",
       "      <td>0</td>\n",
       "      <td>0</td>\n",
       "      <td>0</td>\n",
       "      <td>0</td>\n",
       "      <td>0</td>\n",
       "      <td>0</td>\n",
       "      <td>0</td>\n",
       "      <td>0</td>\n",
       "      <td>0</td>\n",
       "      <td>1</td>\n",
       "    </tr>\n",
       "    <tr>\n",
       "      <th>3</th>\n",
       "      <td>0.050720</td>\n",
       "      <td>-0.168941</td>\n",
       "      <td>279.99</td>\n",
       "      <td>0</td>\n",
       "      <td>0</td>\n",
       "      <td>0</td>\n",
       "      <td>0</td>\n",
       "      <td>0</td>\n",
       "      <td>0</td>\n",
       "      <td>0</td>\n",
       "      <td>...</td>\n",
       "      <td>0</td>\n",
       "      <td>0</td>\n",
       "      <td>0</td>\n",
       "      <td>0</td>\n",
       "      <td>0</td>\n",
       "      <td>0</td>\n",
       "      <td>0</td>\n",
       "      <td>0</td>\n",
       "      <td>0</td>\n",
       "      <td>1</td>\n",
       "    </tr>\n",
       "    <tr>\n",
       "      <th>4</th>\n",
       "      <td>2.706526</td>\n",
       "      <td>3.670886</td>\n",
       "      <td>799.00</td>\n",
       "      <td>0</td>\n",
       "      <td>0</td>\n",
       "      <td>0</td>\n",
       "      <td>0</td>\n",
       "      <td>0</td>\n",
       "      <td>0</td>\n",
       "      <td>0</td>\n",
       "      <td>...</td>\n",
       "      <td>0</td>\n",
       "      <td>0</td>\n",
       "      <td>0</td>\n",
       "      <td>0</td>\n",
       "      <td>0</td>\n",
       "      <td>0</td>\n",
       "      <td>0</td>\n",
       "      <td>1</td>\n",
       "      <td>0</td>\n",
       "      <td>1</td>\n",
       "    </tr>\n",
       "  </tbody>\n",
       "</table>\n",
       "<p>5 rows × 437 columns</p>\n",
       "</div>"
      ],
      "text/plain": [
       "        RAM   Storage  Final Price  Brand_Apple  Brand_Asus  Brand_BQ  \\\n",
       "0  0.935989  1.111001       231.60            0           0         0   \n",
       "1 -0.834549 -0.168941       279.00            0           0         0   \n",
       "2 -0.834549 -0.168941       179.01            0           0         0   \n",
       "3  0.050720 -0.168941       279.99            0           0         0   \n",
       "4  2.706526  3.670886       799.00            0           0         0   \n",
       "\n",
       "   Brand_Blackview  Brand_CAT  Brand_Crosscall  Brand_Cubot  ...  \\\n",
       "0                0          0                0            0  ...   \n",
       "1                0          0                0            0  ...   \n",
       "2                0          0                0            0  ...   \n",
       "3                0          0                0            0  ...   \n",
       "4                0          0                0            0  ...   \n",
       "\n",
       "   Color_Orange  Color_Pink  Color_Purple  Color_Rainbow  Color_Red  \\\n",
       "0             0           0             0              0          0   \n",
       "1             0           0             0              0          0   \n",
       "2             0           0             0              0          0   \n",
       "3             0           0             0              0          0   \n",
       "4             0           0             0              0          0   \n",
       "\n",
       "   Color_Silver  Color_Turquoise  Color_White  Color_Yellow  Free_Yes  \n",
       "0             0                0            0             1         1  \n",
       "1             0                0            0             0         1  \n",
       "2             0                0            0             0         1  \n",
       "3             0                0            0             0         1  \n",
       "4             0                0            1             0         1  \n",
       "\n",
       "[5 rows x 437 columns]"
      ]
     },
     "execution_count": 62,
     "metadata": {},
     "output_type": "execute_result"
    }
   ],
   "source": [
    "df.head()"
   ]
  },
  {
   "cell_type": "raw",
   "id": "c037ba57",
   "metadata": {},
   "source": [
    "feature engineering \n",
    "\n",
    "feature engineering is not applicable here... "
   ]
  },
  {
   "cell_type": "markdown",
   "id": "c6a392a7",
   "metadata": {},
   "source": [
    "# Model Building"
   ]
  },
  {
   "cell_type": "code",
   "execution_count": 63,
   "id": "3fed2a60",
   "metadata": {},
   "outputs": [],
   "source": [
    "from sklearn.model_selection import train_test_split\n",
    "\n",
    "\n",
    "x = df.drop('Final Price',axis=1)\n",
    "y = df['Final Price']\n",
    "xtrain,xtest,ytrain,ytest = train_test_split(x,y,test_size=0.30,random_state=100)"
   ]
  },
  {
   "cell_type": "code",
   "execution_count": 64,
   "id": "0017adca",
   "metadata": {},
   "outputs": [],
   "source": [
    "from sklearn.metrics import mean_absolute_percentage_error"
   ]
  },
  {
   "cell_type": "code",
   "execution_count": 65,
   "id": "d6b236e2",
   "metadata": {},
   "outputs": [
    {
     "name": "stdout",
     "output_type": "stream",
     "text": [
      "train_error: 15.175323288164847\n",
      "test_error: 64203351732.4096\n"
     ]
    }
   ],
   "source": [
    "from sklearn.linear_model import LinearRegression\n",
    "\n",
    "LR = LinearRegression()\n",
    "LR_model = LR.fit(xtrain,ytrain)\n",
    "train_pred = LR_model.predict(xtrain)\n",
    "test_pred = LR_model.predict(xtest)\n",
    "\n",
    "print('train_error:',mean_absolute_percentage_error(ytrain,train_pred)*100)\n",
    "print('test_error:', mean_absolute_percentage_error(ytest,test_pred)*100)\n"
   ]
  },
  {
   "cell_type": "code",
   "execution_count": 66,
   "id": "ab5786e8",
   "metadata": {},
   "outputs": [],
   "source": [
    "# why this model is overfit ??\n",
    "\n",
    "# answer :- when model performimg well in training and bad performing in testing is called ovefitting \n",
    "# model."
   ]
  },
  {
   "cell_type": "markdown",
   "id": "f10c9da4",
   "metadata": {},
   "source": [
    "# regularization "
   ]
  },
  {
   "cell_type": "code",
   "execution_count": 67,
   "id": "c7069f36",
   "metadata": {},
   "outputs": [],
   "source": [
    "from sklearn.linear_model import Lasso"
   ]
  },
  {
   "cell_type": "code",
   "execution_count": 68,
   "id": "471f0e83",
   "metadata": {},
   "outputs": [
    {
     "name": "stdout",
     "output_type": "stream",
     "text": [
      "train_error: 31.604560079605807\n",
      "test_error: 30.9323485591664\n"
     ]
    }
   ],
   "source": [
    "# lasso,ridge and elastic net we are using when model overfitting\n",
    "\n",
    "l = Lasso()\n",
    "l_model = l.fit(xtrain,ytrain)\n",
    "train_pred = l_model.predict(xtrain)\n",
    "test_pred = l_model.predict(xtest)\n",
    "\n",
    "print('train_error:',mean_absolute_percentage_error(ytrain,train_pred)*100)\n",
    "print('test_error:', mean_absolute_percentage_error(ytest,test_pred)*100)\n"
   ]
  },
  {
   "cell_type": "code",
   "execution_count": 69,
   "id": "b77477bc",
   "metadata": {},
   "outputs": [
    {
     "name": "stdout",
     "output_type": "stream",
     "text": [
      "train_error: 21.513890164297617\n",
      "test_error: 26.700053308574432\n"
     ]
    },
    {
     "name": "stderr",
     "output_type": "stream",
     "text": [
      "C:\\Users\\hp\\AppData\\Roaming\\Python\\Python311\\site-packages\\sklearn\\linear_model\\_stochastic_gradient.py:1548: ConvergenceWarning: Maximum number of iteration reached before convergence. Consider increasing max_iter to improve the fit.\n",
      "  warnings.warn(\n"
     ]
    }
   ],
   "source": [
    "from sklearn.linear_model import SGDRegressor\n",
    "\n",
    "SGD = SGDRegressor()\n",
    "SGD_model = SGD.fit(xtrain,ytrain)\n",
    "train_pred = SGD_model.predict(xtrain)\n",
    "test_pred = SGD_model.predict(xtest)\n",
    "\n",
    "print('train_error:',mean_absolute_percentage_error(ytrain,train_pred)*100)\n",
    "print('test_error:', mean_absolute_percentage_error(ytest,test_pred)*100)\n"
   ]
  },
  {
   "cell_type": "code",
   "execution_count": 70,
   "id": "1744a7cf",
   "metadata": {},
   "outputs": [],
   "source": [
    "# SGD model lookig is very good is good in training and testing also"
   ]
  },
  {
   "cell_type": "code",
   "execution_count": 71,
   "id": "30fc2290",
   "metadata": {},
   "outputs": [
    {
     "name": "stdout",
     "output_type": "stream",
     "text": [
      "train_error: 10.223237840234086\n",
      "test_error: 23.3144482616899\n"
     ]
    }
   ],
   "source": [
    "from sklearn.ensemble import RandomForestRegressor\n",
    "\n",
    "RD = RandomForestRegressor()\n",
    "RD_model = RD.fit(xtrain,ytrain)\n",
    "train_pred = RD_model.predict(xtrain)\n",
    "test_pred = RD_model.predict(xtest)\n",
    "\n",
    "print('train_error:',mean_absolute_percentage_error(ytrain,train_pred)*100)\n",
    "print('test_error:', mean_absolute_percentage_error(ytest,test_pred)*100)\n"
   ]
  },
  {
   "cell_type": "code",
   "execution_count": 72,
   "id": "19c6b979",
   "metadata": {},
   "outputs": [],
   "source": [
    "# RandomForest looking good in both training and testing "
   ]
  },
  {
   "cell_type": "markdown",
   "id": "5a0fcb47",
   "metadata": {},
   "source": [
    "# GSCV"
   ]
  },
  {
   "cell_type": "code",
   "execution_count": 73,
   "id": "17532b00",
   "metadata": {},
   "outputs": [],
   "source": [
    "from sklearn.metrics import r2_score"
   ]
  },
  {
   "cell_type": "code",
   "execution_count": 74,
   "id": "dd4159af",
   "metadata": {},
   "outputs": [
    {
     "name": "stderr",
     "output_type": "stream",
     "text": [
      "C:\\Users\\hp\\AppData\\Roaming\\Python\\Python311\\site-packages\\sklearn\\model_selection\\_search.py:952: UserWarning: One or more of the test scores are non-finite: [nan nan nan nan]\n",
      "  warnings.warn(\n"
     ]
    },
    {
     "name": "stdout",
     "output_type": "stream",
     "text": [
      "best_hyperparameters: {'n_estimators': 50}\n"
     ]
    }
   ],
   "source": [
    "from sklearn.model_selection import GridSearchCV\n",
    "\n",
    "parameters = {'n_estimators':[50,150,200,70]}\n",
    "\n",
    "GSCV = GridSearchCV(estimator=RD,param_grid=parameters,scoring=r2_score,n_jobs=-1)\n",
    "GSCV_model = GSCV.fit(xtrain,ytrain)\n",
    "\n",
    "print('best_hyperparameters:', GSCV_model.best_params_)"
   ]
  },
  {
   "cell_type": "code",
   "execution_count": 77,
   "id": "78f66302",
   "metadata": {},
   "outputs": [
    {
     "name": "stdout",
     "output_type": "stream",
     "text": [
      "train_error: 10.30395742962023\n",
      "test_error: 23.70882351849279\n"
     ]
    }
   ],
   "source": [
    "# tuned_model \n",
    "\n",
    "tuned_model = RandomForestRegressor(n_estimators=50)\n",
    "tuned_model_1 = tuned_model.fit(xtrain,ytrain)\n",
    "train_pred = tuned_model_1.predict(xtrain)\n",
    "test_pred = tuned_model_1.predict(xtest)\n",
    "\n",
    "print('train_error:',mean_absolute_percentage_error(ytrain,train_pred)*100)\n",
    "print('test_error:', mean_absolute_percentage_error(ytest,test_pred)*100)\n"
   ]
  },
  {
   "cell_type": "code",
   "execution_count": 76,
   "id": "ebd0dfe6",
   "metadata": {},
   "outputs": [],
   "source": [
    "# tuned model and random_forest models are looking good\n",
    "\n",
    "# we can proceed with tuned model or randomforestregressormodel for prediction"
   ]
  }
 ],
 "metadata": {
  "kernelspec": {
   "display_name": "Python 3 (ipykernel)",
   "language": "python",
   "name": "python3"
  },
  "language_info": {
   "codemirror_mode": {
    "name": "ipython",
    "version": 3
   },
   "file_extension": ".py",
   "mimetype": "text/x-python",
   "name": "python",
   "nbconvert_exporter": "python",
   "pygments_lexer": "ipython3",
   "version": "3.11.5"
  }
 },
 "nbformat": 4,
 "nbformat_minor": 5
}
